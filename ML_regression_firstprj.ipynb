{
  "cells": [
    {
      "attachments": {},
      "cell_type": "markdown",
      "metadata": {
        "id": "FNC4nize7KXS"
      },
      "source": [
        "# **ML Regression 1st Project Project**"
      ]
    },
    {
      "attachments": {},
      "cell_type": "markdown",
      "metadata": {
        "nteract": {
          "transient": {
            "deleting": false
          }
        }
      },
      "source": []
    },
    {
      "attachments": {},
      "cell_type": "markdown",
      "metadata": {
        "id": "25Vxv1iF7Y9_"
      },
      "source": [
        "# **Data Load from external data source (Git .csv file)**"
      ]
    },
    {
      "cell_type": "code",
      "execution_count": null,
      "metadata": {
        "colab": {
          "base_uri": "https://localhost:8080/",
          "height": 424
        },
        "gather": {
          "logged": 1685802298723
        },
        "id": "He_caBHQ6jL5",
        "outputId": "e60c2905-46e1-476c-f9e5-ba30956ac8dd"
      },
      "outputs": [],
      "source": [
        "import pandas as pd\n",
        "\n",
        "dtframe = pd.read_csv('https://raw.githubusercontent.com/clebervisconti/datasets/main/sales_data_sample.csv', usecols=['QUANTITYORDERED','PRICEEACH','SALES','MONTH_ID','YEAR_ID'])\n",
        "dtframe"
      ]
    },
    {
      "attachments": {},
      "cell_type": "markdown",
      "metadata": {
        "id": "S_6YQIs_9fH2"
      },
      "source": [
        "# **Data Transformation**"
      ]
    },
    {
      "attachments": {},
      "cell_type": "markdown",
      "metadata": {
        "id": "fsTJwt4r9keK"
      },
      "source": [
        "## Determining Y and X"
      ]
    },
    {
      "cell_type": "code",
      "execution_count": null,
      "metadata": {
        "colab": {
          "base_uri": "https://localhost:8080/"
        },
        "gather": {
          "logged": 1685802301895
        },
        "id": "Aju4__Qx9egR",
        "outputId": "7674a71e-f94b-447c-d3ad-77dedc6b19df"
      },
      "outputs": [],
      "source": [
        "y = dtframe['QUANTITYORDERED']\n",
        "y"
      ]
    },
    {
      "cell_type": "code",
      "execution_count": null,
      "metadata": {
        "colab": {
          "base_uri": "https://localhost:8080/",
          "height": 424
        },
        "gather": {
          "logged": 1685802304692
        },
        "id": "PKDTmEIt9zX7",
        "outputId": "0f076684-0118-4b8f-8d64-df5a9785f1f3"
      },
      "outputs": [],
      "source": [
        "X = dtframe.drop('QUANTITYORDERED', axis=1)\n",
        "X"
      ]
    },
    {
      "attachments": {},
      "cell_type": "markdown",
      "metadata": {
        "id": "FWgN9vQp-QJg"
      },
      "source": [
        "## Data Transformation and Spliting"
      ]
    },
    {
      "cell_type": "code",
      "execution_count": null,
      "metadata": {
        "gather": {
          "logged": 1685802308593
        },
        "id": "ZRR5UNar-AVY"
      },
      "outputs": [],
      "source": [
        "from sklearn.model_selection import train_test_split\n",
        "\n",
        "\n",
        "X_train, X_test, y_train, y_test = train_test_split(X, y, test_size=0.1, random_state=100)"
      ]
    },
    {
      "cell_type": "code",
      "execution_count": null,
      "metadata": {
        "colab": {
          "base_uri": "https://localhost:8080/",
          "height": 424
        },
        "gather": {
          "logged": 1685802311461
        },
        "id": "Qr7WeW4t-nfb",
        "outputId": "28f3492f-1425-4754-e68b-ae342334f5f1"
      },
      "outputs": [],
      "source": [
        "X_train"
      ]
    },
    {
      "cell_type": "code",
      "execution_count": null,
      "metadata": {
        "colab": {
          "base_uri": "https://localhost:8080/",
          "height": 424
        },
        "gather": {
          "logged": 1685802314760
        },
        "id": "0E3gw5T0-7Dp",
        "outputId": "cfaafbf8-faaf-4c3e-89ed-2bbe2e0ba2dd"
      },
      "outputs": [],
      "source": [
        "X_test"
      ]
    },
    {
      "attachments": {},
      "cell_type": "markdown",
      "metadata": {
        "id": "K7e6T8g8Afap"
      },
      "source": [
        "# **Building Model: Linear Regression**"
      ]
    },
    {
      "attachments": {},
      "cell_type": "markdown",
      "metadata": {
        "id": "ZHJF5xg_BZoP"
      },
      "source": [
        "### **Training the model**"
      ]
    },
    {
      "cell_type": "code",
      "execution_count": null,
      "metadata": {
        "colab": {
          "base_uri": "https://localhost:8080/"
        },
        "gather": {
          "logged": 1685802318894
        },
        "id": "wytJG7HN-9im",
        "outputId": "c3f72227-081f-4b99-934d-bf14706ea0da"
      },
      "outputs": [],
      "source": [
        "from sklearn.linear_model import LinearRegression\n",
        "\n",
        "lr = LinearRegression()\n",
        "lr.fit(X_train, y_train)"
      ]
    },
    {
      "attachments": {},
      "cell_type": "markdown",
      "metadata": {
        "id": "_PVoZXs5BdM3"
      },
      "source": [
        "### **Applying the model to make a prediction**"
      ]
    },
    {
      "cell_type": "code",
      "execution_count": null,
      "metadata": {
        "gather": {
          "logged": 1685802328413
        },
        "id": "d75s1FiaBRo6"
      },
      "outputs": [],
      "source": [
        "y_lr_train_pred = lr.predict(X_train)\n",
        "y_lr_test_pred = lr.predict(X_test)"
      ]
    },
    {
      "cell_type": "code",
      "execution_count": null,
      "metadata": {
        "colab": {
          "base_uri": "https://localhost:8080/"
        },
        "gather": {
          "logged": 1685802330722
        },
        "id": "tEsmABQuB615",
        "outputId": "0bad2bb1-a420-4418-a431-883f615d42da"
      },
      "outputs": [],
      "source": [
        "y_lr_train_pred"
      ]
    },
    {
      "cell_type": "code",
      "execution_count": null,
      "metadata": {
        "colab": {
          "base_uri": "https://localhost:8080/"
        },
        "gather": {
          "logged": 1685802334270
        },
        "id": "S0ODinTOB-8H",
        "outputId": "a9c62e37-7a65-4243-a30f-398827fb55e4"
      },
      "outputs": [],
      "source": [
        "y_lr_test_pred"
      ]
    },
    {
      "attachments": {},
      "cell_type": "markdown",
      "metadata": {
        "id": "zpvSzhtzCOEW"
      },
      "source": [
        "### **Evaluate model performance**"
      ]
    },
    {
      "cell_type": "code",
      "execution_count": null,
      "metadata": {
        "gather": {
          "logged": 1685802343732
        },
        "id": "LQ7o2RBbCm-c"
      },
      "outputs": [],
      "source": [
        "from sklearn.metrics import mean_squared_error, r2_score\n",
        "\n",
        "lr_train_mse = mean_squared_error(y_train, y_lr_train_pred)\n",
        "lr_train_r2 = r2_score(y_train, y_lr_train_pred)\n",
        "\n",
        "lr_test_mse = mean_squared_error(y_test, y_lr_test_pred)\n",
        "lr_test_r2 = r2_score(y_test, y_lr_test_pred)"
      ]
    },
    {
      "cell_type": "code",
      "execution_count": null,
      "metadata": {
        "colab": {
          "base_uri": "https://localhost:8080/"
        },
        "gather": {
          "logged": 1685802347825
        },
        "id": "HindUkvEDI52",
        "outputId": "cf68fa83-54a8-4feb-a7b9-dc200bedbcb2"
      },
      "outputs": [],
      "source": [
        "print('LR MSE (Train): ', lr_train_mse)\n",
        "print('LR R2 (Train): ', lr_train_r2)\n",
        "print('LR MSE (Test): ', lr_test_mse)\n",
        "print('LR R2 (Test): ', lr_test_r2)"
      ]
    },
    {
      "cell_type": "code",
      "execution_count": null,
      "metadata": {
        "gather": {
          "logged": 1685802352233
        },
        "id": "OgztRbiEDks_"
      },
      "outputs": [],
      "source": [
        "lr_results = pd.DataFrame(['Linear regression', lr_train_mse, lr_train_r2, lr_test_mse, lr_test_r2]).transpose()\n",
        "lr_results.columns = ['Method', 'Training MSE', 'Training R2', 'Test MSE', 'Test R2']"
      ]
    },
    {
      "cell_type": "code",
      "execution_count": null,
      "metadata": {
        "colab": {
          "base_uri": "https://localhost:8080/",
          "height": 81
        },
        "gather": {
          "logged": 1685802354446
        },
        "id": "jaGG_6VHDwaH",
        "outputId": "feae1448-2f9f-4307-9e86-099793a81f2b"
      },
      "outputs": [],
      "source": [
        "lr_results"
      ]
    },
    {
      "attachments": {},
      "cell_type": "markdown",
      "metadata": {
        "id": "8CNt9k8qENOw"
      },
      "source": [
        "## **Building Model: Random Forest**"
      ]
    },
    {
      "attachments": {},
      "cell_type": "markdown",
      "metadata": {
        "id": "zFQXxAWAElNT"
      },
      "source": [
        "### **Training the model**"
      ]
    },
    {
      "cell_type": "code",
      "execution_count": null,
      "metadata": {
        "colab": {
          "base_uri": "https://localhost:8080/"
        },
        "gather": {
          "logged": 1685802362550
        },
        "id": "6_fxutrfDxdJ",
        "outputId": "01a05a08-be91-4529-9399-9966d0d12de8"
      },
      "outputs": [],
      "source": [
        "from sklearn.ensemble import RandomForestRegressor\n",
        "\n",
        "rf = RandomForestRegressor(max_depth=2, random_state=100)\n",
        "rf.fit(X_train, y_train)"
      ]
    },
    {
      "attachments": {},
      "cell_type": "markdown",
      "metadata": {
        "id": "5jc8O_VAEoEf"
      },
      "source": [
        "### **Applying the model to make a prediction**"
      ]
    },
    {
      "cell_type": "code",
      "execution_count": null,
      "metadata": {
        "gather": {
          "logged": 1685802365015
        },
        "id": "Batj8MmUFSL0"
      },
      "outputs": [],
      "source": [
        "y_rf_train_pred = rf.predict(X_train)\n",
        "y_rf_test_pred = rf.predict(X_test)"
      ]
    },
    {
      "attachments": {},
      "cell_type": "markdown",
      "metadata": {
        "id": "vO4HfuhZErCu"
      },
      "source": [
        "### **Evaluate model performance**"
      ]
    },
    {
      "cell_type": "code",
      "execution_count": null,
      "metadata": {
        "gather": {
          "logged": 1685802367886
        },
        "id": "jKNWP5Y8FYea"
      },
      "outputs": [],
      "source": [
        "from sklearn.metrics import mean_squared_error, r2_score\n",
        "\n",
        "rf_train_mse = mean_squared_error(y_train, y_rf_train_pred)\n",
        "rf_train_r2 = r2_score(y_train, y_rf_train_pred)\n",
        "\n",
        "rf_test_mse = mean_squared_error(y_test, y_rf_test_pred)\n",
        "rf_test_r2 = r2_score(y_test, y_rf_test_pred)"
      ]
    },
    {
      "cell_type": "code",
      "execution_count": null,
      "metadata": {
        "colab": {
          "base_uri": "https://localhost:8080/",
          "height": 81
        },
        "gather": {
          "logged": 1685802370953
        },
        "id": "QykSvn0xFkLP",
        "outputId": "b590d7fd-604d-47c7-b237-a75fa82711ff"
      },
      "outputs": [],
      "source": [
        "rf_results = pd.DataFrame(['Random forest', rf_train_mse, rf_train_r2, rf_test_mse, rf_test_r2]).transpose()\n",
        "rf_results.columns = ['Method', 'Training MSE', 'Training R2', 'Test MSE', 'Test R2']\n",
        "rf_results"
      ]
    },
    {
      "attachments": {},
      "cell_type": "markdown",
      "metadata": {
        "id": "ntqCwrr_F1ei"
      },
      "source": [
        "## **Models comparison**"
      ]
    },
    {
      "cell_type": "code",
      "execution_count": null,
      "metadata": {
        "colab": {
          "base_uri": "https://localhost:8080/",
          "height": 112
        },
        "gather": {
          "logged": 1685802373373
        },
        "id": "EOSeTeNpFsc7",
        "outputId": "4a43f46c-cbb1-4f31-bd68-4731567061da"
      },
      "outputs": [],
      "source": [
        "df_models = pd.concat([lr_results, rf_results], axis=0)"
      ]
    },
    {
      "cell_type": "code",
      "execution_count": null,
      "metadata": {
        "colab": {
          "base_uri": "https://localhost:8080/",
          "height": 112
        },
        "gather": {
          "logged": 1685802375478
        },
        "id": "YoipS0SjGC7n",
        "outputId": "0959eb83-5ad4-4f87-e4d0-b72dc73b8f69"
      },
      "outputs": [],
      "source": [
        "df_models.reset_index(drop=True)"
      ]
    },
    {
      "attachments": {},
      "cell_type": "markdown",
      "metadata": {
        "id": "Ec77v0xLIaGh"
      },
      "source": [
        "# **Matplot: Data visualization of prediction results**"
      ]
    },
    {
      "cell_type": "code",
      "execution_count": null,
      "metadata": {
        "colab": {
          "base_uri": "https://localhost:8080/",
          "height": 352
        },
        "gather": {
          "logged": 1685802382502
        },
        "id": "O2ErUWJ2GVQs",
        "outputId": "630652ce-4068-43e2-87af-94b75738d7ee"
      },
      "outputs": [],
      "source": [
        "import matplotlib.pyplot as plt\n",
        "import numpy as np\n",
        "\n",
        "plt.figure(figsize=(5,5))\n",
        "plt.scatter(x=y_train, y=y_lr_train_pred, c=\"#7CAE00\" ,alpha=0.3)\n",
        "\n",
        "z = np.polyfit(y_train, y_lr_train_pred, 1)\n",
        "p = np.poly1d(z)\n",
        "\n",
        "plt.plot(y_train, p(y_train), '#F8766D')\n",
        "plt.ylabel('Predict LogS')\n",
        "plt.xlabel('Experimental LogS')"
      ]
    },
    {
      "cell_type": "code",
      "execution_count": null,
      "metadata": {
        "id": "tAP5mbO6I2mI"
      },
      "outputs": [],
      "source": []
    }
  ],
  "metadata": {
    "colab": {
      "collapsed_sections": [],
      "name": "first-ML-project.ipynb",
      "provenance": [],
      "toc_visible": true
    },
    "kernel_info": {
      "name": "python3"
    },
    "kernelspec": {
      "display_name": "Python 3.8 - AzureML",
      "language": "python",
      "name": "python38-azureml"
    },
    "language_info": {
      "codemirror_mode": {
        "name": "ipython",
        "version": 3
      },
      "file_extension": ".py",
      "mimetype": "text/x-python",
      "name": "python",
      "nbconvert_exporter": "python",
      "pygments_lexer": "ipython3",
      "version": "3.8.5"
    },
    "microsoft": {
      "ms_spell_check": {
        "ms_spell_check_language": "en"
      }
    },
    "nteract": {
      "version": "nteract-front-end@1.0.0"
    }
  },
  "nbformat": 4,
  "nbformat_minor": 0
}
